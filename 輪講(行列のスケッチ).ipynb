{
  "cells": [
    {
      "cell_type": "markdown",
      "metadata": {
        "id": "view-in-github",
        "colab_type": "text"
      },
      "source": [
        "<a href=\"https://colab.research.google.com/github/hotekagi/me_practice/blob/main/%E8%BC%AA%E8%AC%9B(%E8%A1%8C%E5%88%97%E3%81%AE%E3%82%B9%E3%82%B1%E3%83%83%E3%83%81).ipynb\" target=\"_parent\"><img src=\"https://colab.research.google.com/assets/colab-badge.svg\" alt=\"Open In Colab\"/></a>"
      ]
    },
    {
      "cell_type": "markdown",
      "source": [
        "**GPU使えば大きな行列でも数値実験できるので実装してみました**"
      ],
      "metadata": {
        "id": "bCcs3ScJsPe7"
      }
    },
    {
      "cell_type": "markdown",
      "source": [
        "セットアップ"
      ],
      "metadata": {
        "id": "eXHGt8NlvKG6"
      }
    },
    {
      "cell_type": "code",
      "source": [
        "import torch\n",
        "\n",
        "def make_S(n: int, r: int):\n",
        "    # make a sparse embedding matrix S (p.18,19)\n",
        "    rows = torch.randint(r, size=(n,)).tolist()\n",
        "    cols = torch.arange(n).tolist()\n",
        "    data = torch.where(torch.rand(n) < 0.5, torch.ones(n), -torch.ones(n))\n",
        "\n",
        "    S = torch.sparse_coo_tensor(\n",
        "        indices=[rows, cols], values=data, size=(r, n), dtype=torch.float64\n",
        "    )\n",
        "    return S\n",
        "\n",
        "def make_A(n: int, d: int, dense=0.3, max=100):\n",
        "    offset = max * (1-dense)\n",
        "    sparse_matrix = torch.randint(max, (n,d))\n",
        "    sparse_matrix[sparse_matrix < offset] = offset\n",
        "    return sparse_matrix - offset\n",
        "\n",
        "def colorizeOutput(text, color):\n",
        "    return f\"\\033[3{color}m{text}\\033[00m\""
      ],
      "metadata": {
        "id": "2evqhAh8Txq2"
      },
      "execution_count": 8,
      "outputs": []
    },
    {
      "cell_type": "markdown",
      "source": [
        "CPU版"
      ],
      "metadata": {
        "id": "VoUqNNu8vMzR"
      }
    },
    {
      "cell_type": "code",
      "source": [
        "eps = 0.01\n",
        "n = 10000\n",
        "d = 10\n",
        "r = int(d * d /eps)\n",
        "\n",
        "A = make_A(n, d).to(torch.float32)\n",
        "original_coeff = torch.randint(100, (d,)).to(torch.float32)\n",
        "print(\"original_coeff\", original_coeff)\n",
        "b = torch.mv(A, original_coeff)  + torch.normal(0, 1, size=(n,)).to(torch.float32)\n",
        "\n",
        "A_pinv = torch.linalg.pinv(A)\n",
        "actual_coeff = A_pinv @ b\n",
        "\n",
        "S = make_S(n, r).to(torch.float32)\n",
        "SA = torch.mm(S, A)\n",
        "Sb = torch.mv(S, b)\n",
        "\n",
        "SA_pinv = torch.linalg.pinv(SA)\n",
        "estimated_coeff = SA_pinv @ Sb\n",
        "\n",
        "criteria = torch.nn.MSELoss()\n",
        "original_SE = criteria(A@original_coeff, b) # np.linalg.norm(A @ original_coeff - b, ord=2)\n",
        "actual_SE = criteria(A@actual_coeff, b)\n",
        "estimated_SE = criteria(A@estimated_coeff, b)\n",
        "\n",
        "print(colorizeOutput(f\" Original Coeff: {original_coeff}\", 6))\n",
        "print(colorizeOutput(f\"   Actual Coeff: {actual_coeff}\", 4))\n",
        "print(colorizeOutput(f\"Estimated Coeff: {estimated_coeff}\", 2))\n",
        "\n",
        "print(\"=\" * 10)\n",
        "\n",
        "print(colorizeOutput(f\" Original Mean Squared Error: {original_SE}\", 6))\n",
        "print(colorizeOutput(f\"   Actual Mean Squared Error: {actual_SE}\", 4))\n",
        "print(colorizeOutput(f\"Estimated Mean Squared Error: {estimated_SE}\", 2))\n",
        "\n",
        "print(\"eps:\", eps)\n",
        "print(\"error rate:\", (float(estimated_SE) / float(actual_SE))-1)"
      ],
      "metadata": {
        "colab": {
          "base_uri": "https://localhost:8080/"
        },
        "id": "VBW2r0TwmdR0",
        "outputId": "3fe720f0-7baf-4b5b-e0f2-83e093bd60aa"
      },
      "execution_count": 9,
      "outputs": [
        {
          "output_type": "stream",
          "name": "stdout",
          "text": [
            "original_coeff tensor([57., 66.,  3., 88., 75., 70., 57., 45., 11.,  9.])\n",
            "\u001b[36m Original Coeff: tensor([57., 66.,  3., 88., 75., 70., 57., 45., 11.,  9.])\u001b[00m\n",
            "\u001b[34m   Actual Coeff: tensor([57.0020, 65.9994,  2.9989, 87.9977, 74.9998, 69.9996, 57.0007, 44.9979,\n",
            "        11.0014,  8.9989])\u001b[00m\n",
            "\u001b[32mEstimated Coeff: tensor([57.0019, 65.9977,  3.0004, 87.9969, 75.0012, 70.0004, 57.0015, 44.9958,\n",
            "        11.0014,  8.9986])\u001b[00m\n",
            "==========\n",
            "\u001b[36m Original Mean Squared Error: 0.9834068417549133\u001b[00m\n",
            "\u001b[34m   Actual Mean Squared Error: 0.9818774461746216\u001b[00m\n",
            "\u001b[32mEstimated Mean Squared Error: 0.9827638864517212\u001b[00m\n",
            "eps: 0.01\n",
            "error rate: 0.0009028013430323334\n"
          ]
        }
      ]
    },
    {
      "cell_type": "markdown",
      "source": [
        "GPU版"
      ],
      "metadata": {
        "id": "_CvSiVbFvPij"
      }
    },
    {
      "cell_type": "code",
      "source": [
        "!nvidia-smi"
      ],
      "metadata": {
        "colab": {
          "base_uri": "https://localhost:8080/"
        },
        "id": "Mijn2330zFpg",
        "outputId": "1c22dc50-2607-4ccd-8ab7-23a9d6921db1"
      },
      "execution_count": 14,
      "outputs": [
        {
          "output_type": "stream",
          "name": "stdout",
          "text": [
            "Wed May 10 08:36:05 2023       \n",
            "+-----------------------------------------------------------------------------+\n",
            "| NVIDIA-SMI 525.85.12    Driver Version: 525.85.12    CUDA Version: 12.0     |\n",
            "|-------------------------------+----------------------+----------------------+\n",
            "| GPU  Name        Persistence-M| Bus-Id        Disp.A | Volatile Uncorr. ECC |\n",
            "| Fan  Temp  Perf  Pwr:Usage/Cap|         Memory-Usage | GPU-Util  Compute M. |\n",
            "|                               |                      |               MIG M. |\n",
            "|===============================+======================+======================|\n",
            "|   0  Tesla T4            Off  | 00000000:00:04.0 Off |                    0 |\n",
            "| N/A   45C    P0    25W /  70W |    209MiB / 15360MiB |      0%      Default |\n",
            "|                               |                      |                  N/A |\n",
            "+-------------------------------+----------------------+----------------------+\n",
            "                                                                               \n",
            "+-----------------------------------------------------------------------------+\n",
            "| Processes:                                                                  |\n",
            "|  GPU   GI   CI        PID   Type   Process name                  GPU Memory |\n",
            "|        ID   ID                                                   Usage      |\n",
            "|=============================================================================|\n",
            "+-----------------------------------------------------------------------------+\n"
          ]
        }
      ]
    },
    {
      "cell_type": "code",
      "source": [
        "eps = 0.01\n",
        "n = 100000\n",
        "d = 100\n",
        "r = int(d * d /eps)\n",
        "\n",
        "A = make_A(n, d).to('cuda').to(torch.float32)\n",
        "original_coeff = torch.randint(100, (d,)).to('cuda').to(torch.float32)\n",
        "print(\"original_coeff\", original_coeff)\n",
        "b = torch.mv(A, original_coeff)  + torch.normal(0, 1, size=(n,)).to('cuda').to(torch.float32)\n",
        "\n",
        "A_pinv = torch.linalg.pinv(A)\n",
        "actual_coeff = A_pinv @ b\n",
        "\n",
        "S = make_S(n, r).to('cuda').to(torch.float32)\n",
        "SA = torch.mm(S, A)\n",
        "Sb = torch.mv(S, b)\n",
        "\n",
        "SA_pinv = torch.linalg.pinv(SA)\n",
        "estimated_coeff = SA_pinv @ Sb\n",
        "\n",
        "criteria = torch.nn.MSELoss()\n",
        "original_SE = criteria(A@original_coeff, b) # np.linalg.norm(A @ original_coeff - b, ord=2)\n",
        "actual_SE = criteria(A@actual_coeff, b)\n",
        "estimated_SE = criteria(A@estimated_coeff, b)\n",
        "\n",
        "print(colorizeOutput(f\" Original Coeff: {original_coeff}\", 6))\n",
        "print(colorizeOutput(f\"   Actual Coeff: {actual_coeff}\", 4))\n",
        "print(colorizeOutput(f\"Estimated Coeff: {estimated_coeff}\", 2))\n",
        "\n",
        "print(\"=\" * 10)\n",
        "\n",
        "print(colorizeOutput(f\" Original Mean Squared Error: {original_SE}\", 6))\n",
        "print(colorizeOutput(f\"   Actual Mean Squared Error: {actual_SE}\", 4))\n",
        "print(colorizeOutput(f\"Estimated Mean Squared Error: {estimated_SE}\", 2))\n",
        "\n",
        "print(\"eps:\", eps)\n",
        "print(\"error rate:\", (float(estimated_SE) / float(actual_SE))-1)"
      ],
      "metadata": {
        "colab": {
          "base_uri": "https://localhost:8080/"
        },
        "id": "7yE87Rvtsifc",
        "outputId": "edd3c465-a22e-4a2b-c00b-93de9a598061"
      },
      "execution_count": 16,
      "outputs": [
        {
          "output_type": "stream",
          "name": "stdout",
          "text": [
            "original_coeff tensor([16., 38., 39., 23.,  7.,  0., 17., 18., 81., 86., 12., 93.,  5., 27.,\n",
            "        52., 49., 92., 17., 94., 15., 74., 42., 40., 38., 91., 99., 57., 29.,\n",
            "        91., 73., 31., 94., 24., 64., 50.,  7., 18., 77., 14., 76., 59., 62.,\n",
            "        19., 52., 78., 33., 78., 18.,  9., 71., 27.,  7., 73., 64., 42.,  6.,\n",
            "        42., 86., 83., 13., 81., 21., 55., 93., 30., 73., 83., 10., 40., 53.,\n",
            "        79., 70.,  1., 63., 71., 92., 21., 18., 92., 46., 55., 12., 92., 79.,\n",
            "        75., 49., 33., 95., 43., 13., 99., 54., 49., 24., 91., 73.,  5., 23.,\n",
            "        78., 85.], device='cuda:0')\n",
            "\u001b[36m Original Coeff: tensor([16., 38., 39., 23.,  7.,  0., 17., 18., 81., 86., 12., 93.,  5., 27.,\n",
            "        52., 49., 92., 17., 94., 15., 74., 42., 40., 38., 91., 99., 57., 29.,\n",
            "        91., 73., 31., 94., 24., 64., 50.,  7., 18., 77., 14., 76., 59., 62.,\n",
            "        19., 52., 78., 33., 78., 18.,  9., 71., 27.,  7., 73., 64., 42.,  6.,\n",
            "        42., 86., 83., 13., 81., 21., 55., 93., 30., 73., 83., 10., 40., 53.,\n",
            "        79., 70.,  1., 63., 71., 92., 21., 18., 92., 46., 55., 12., 92., 79.,\n",
            "        75., 49., 33., 95., 43., 13., 99., 54., 49., 24., 91., 73.,  5., 23.,\n",
            "        78., 85.], device='cuda:0')\u001b[00m\n",
            "\u001b[34m   Actual Coeff: tensor([1.5999e+01, 3.8000e+01, 3.9000e+01, 2.3000e+01, 6.9999e+00, 3.4738e-04,\n",
            "        1.7000e+01, 1.8000e+01, 8.0999e+01, 8.6000e+01, 1.1999e+01, 9.3001e+01,\n",
            "        5.0004e+00, 2.7001e+01, 5.2000e+01, 4.9000e+01, 9.2000e+01, 1.7000e+01,\n",
            "        9.4000e+01, 1.5000e+01, 7.4001e+01, 4.2001e+01, 3.9999e+01, 3.8001e+01,\n",
            "        9.0999e+01, 9.9001e+01, 5.7000e+01, 2.8999e+01, 9.1000e+01, 7.3000e+01,\n",
            "        3.1000e+01, 9.4000e+01, 2.4000e+01, 6.4000e+01, 5.0000e+01, 6.9998e+00,\n",
            "        1.8000e+01, 7.7000e+01, 1.4000e+01, 7.6001e+01, 5.9000e+01, 6.2001e+01,\n",
            "        1.9000e+01, 5.1999e+01, 7.8000e+01, 3.3000e+01, 7.8000e+01, 1.8000e+01,\n",
            "        8.9995e+00, 7.1000e+01, 2.7000e+01, 7.0004e+00, 7.3000e+01, 6.3999e+01,\n",
            "        4.2000e+01, 6.0001e+00, 4.2000e+01, 8.6000e+01, 8.3000e+01, 1.3000e+01,\n",
            "        8.0999e+01, 2.1000e+01, 5.5000e+01, 9.3000e+01, 3.0000e+01, 7.3000e+01,\n",
            "        8.3000e+01, 1.0001e+01, 4.0000e+01, 5.3000e+01, 7.9000e+01, 7.0000e+01,\n",
            "        9.9969e-01, 6.3001e+01, 7.1000e+01, 9.2000e+01, 2.1001e+01, 1.8000e+01,\n",
            "        9.2000e+01, 4.6000e+01, 5.4999e+01, 1.2000e+01, 9.2000e+01, 7.9001e+01,\n",
            "        7.5000e+01, 4.9000e+01, 3.3000e+01, 9.5000e+01, 4.3000e+01, 1.3000e+01,\n",
            "        9.9000e+01, 5.4000e+01, 4.9000e+01, 2.4000e+01, 9.1000e+01, 7.3000e+01,\n",
            "        4.9996e+00, 2.3000e+01, 7.8000e+01, 8.5001e+01], device='cuda:0')\u001b[00m\n",
            "\u001b[32mEstimated Coeff: tensor([1.6000e+01, 3.8000e+01, 3.9000e+01, 2.3000e+01, 7.0003e+00, 3.1757e-04,\n",
            "        1.7000e+01, 1.8000e+01, 8.0999e+01, 8.6000e+01, 1.1999e+01, 9.3001e+01,\n",
            "        5.0005e+00, 2.7001e+01, 5.2001e+01, 4.9000e+01, 9.2000e+01, 1.7000e+01,\n",
            "        9.4000e+01, 1.5001e+01, 7.4001e+01, 4.2001e+01, 3.9999e+01, 3.8000e+01,\n",
            "        9.0999e+01, 9.9002e+01, 5.7000e+01, 2.9000e+01, 9.1000e+01, 7.2999e+01,\n",
            "        3.1000e+01, 9.4001e+01, 2.4000e+01, 6.4000e+01, 5.0000e+01, 7.0000e+00,\n",
            "        1.8000e+01, 7.7000e+01, 1.4000e+01, 7.6001e+01, 5.9000e+01, 6.2001e+01,\n",
            "        1.8999e+01, 5.1999e+01, 7.8000e+01, 3.3000e+01, 7.8000e+01, 1.8000e+01,\n",
            "        8.9995e+00, 7.1000e+01, 2.7000e+01, 7.0002e+00, 7.3000e+01, 6.3999e+01,\n",
            "        4.2000e+01, 5.9995e+00, 4.2000e+01, 8.6001e+01, 8.3000e+01, 1.3000e+01,\n",
            "        8.0999e+01, 2.1000e+01, 5.5000e+01, 9.3000e+01, 3.0000e+01, 7.3000e+01,\n",
            "        8.3000e+01, 1.0000e+01, 4.0000e+01, 5.3000e+01, 7.9000e+01, 7.0000e+01,\n",
            "        1.0000e+00, 6.3001e+01, 7.1000e+01, 9.2000e+01, 2.1001e+01, 1.8000e+01,\n",
            "        9.2000e+01, 4.6000e+01, 5.4999e+01, 1.2000e+01, 9.1999e+01, 7.9001e+01,\n",
            "        7.5000e+01, 4.9000e+01, 3.3000e+01, 9.5000e+01, 4.3000e+01, 1.3000e+01,\n",
            "        9.9000e+01, 5.3999e+01, 4.9000e+01, 2.4000e+01, 9.1001e+01, 7.3000e+01,\n",
            "        4.9995e+00, 2.3000e+01, 7.8000e+01, 8.5000e+01], device='cuda:0')\u001b[00m\n",
            "==========\n",
            "\u001b[36m Original Mean Squared Error: 0.9978684186935425\u001b[00m\n",
            "\u001b[34m   Actual Mean Squared Error: 0.9971832633018494\u001b[00m\n",
            "\u001b[32mEstimated Mean Squared Error: 0.9977598190307617\u001b[00m\n",
            "eps: 0.01\n",
            "error rate: 0.0005781843219101468\n"
          ]
        }
      ]
    },
    {
      "cell_type": "code",
      "source": [
        "for eps in [0.1, 0.01, 0.001]:\n",
        "    n = 10000\n",
        "    d = 10\n",
        "    r = int(d * d /eps)\n",
        "\n",
        "    A = make_A(n, d).to('cuda').to(torch.float32)\n",
        "    original_coeff = torch.randint(100, (d,)).to('cuda').to(torch.float32)\n",
        "    print(\"original_coeff\", original_coeff)\n",
        "    b = torch.mv(A, original_coeff)  + torch.normal(0, 1, size=(n,)).to('cuda').to(torch.float32)\n",
        "\n",
        "    A_pinv = torch.linalg.pinv(A)\n",
        "    actual_coeff = A_pinv @ b\n",
        "\n",
        "    S = make_S(n, r).to('cuda').to(torch.float32)\n",
        "    SA = torch.mm(S, A)\n",
        "    Sb = torch.mv(S, b)\n",
        "\n",
        "    SA_pinv = torch.linalg.pinv(SA)\n",
        "    estimated_coeff = SA_pinv @ Sb\n",
        "\n",
        "    criteria = torch.nn.MSELoss()\n",
        "    original_SE = criteria(A@original_coeff, b) # np.linalg.norm(A @ original_coeff - b, ord=2)\n",
        "    actual_SE = criteria(A@actual_coeff, b)\n",
        "    estimated_SE = criteria(A@estimated_coeff, b)\n",
        "\n",
        "    # print(colorizeOutput(f\" Original Coeff: {original_coeff}\", 6))\n",
        "    # print(colorizeOutput(f\"   Actual Coeff: {actual_coeff}\", 4))\n",
        "    # print(colorizeOutput(f\"Estimated Coeff: {estimated_coeff}\", 2))\n",
        "\n",
        "    print(\"=\" * 10)\n",
        "\n",
        "    print(colorizeOutput(f\" Original Mean Squared Error: {original_SE}\", 6))\n",
        "    print(colorizeOutput(f\"   Actual Mean Squared Error: {actual_SE}\", 4))\n",
        "    print(colorizeOutput(f\"Estimated Mean Squared Error: {estimated_SE}\", 2))\n",
        "\n",
        "    print(\"eps:\", eps)\n",
        "    print(\"error rate:\", (float(estimated_SE) / float(actual_SE))-1)"
      ],
      "metadata": {
        "colab": {
          "base_uri": "https://localhost:8080/"
        },
        "id": "0-cJPh4Xsh82",
        "outputId": "698d1e91-4272-45bd-edec-ba793ff8ce86"
      },
      "execution_count": 11,
      "outputs": [
        {
          "output_type": "stream",
          "name": "stdout",
          "text": [
            "original_coeff tensor([28., 25., 65., 39., 72., 27., 77., 12.,  8., 38.], device='cuda:0')\n",
            "==========\n",
            "\u001b[36m Original Mean Squared Error: 0.9891179203987122\u001b[00m\n",
            "\u001b[34m   Actual Mean Squared Error: 0.9877382516860962\u001b[00m\n",
            "\u001b[32mEstimated Mean Squared Error: 0.9949027299880981\u001b[00m\n",
            "eps: 0.1\n",
            "error rate: 0.007253417886542213\n",
            "original_coeff tensor([42., 32., 69., 82.,  5.,  8., 36., 20., 32., 57.], device='cuda:0')\n",
            "==========\n",
            "\u001b[36m Original Mean Squared Error: 0.9881947040557861\u001b[00m\n",
            "\u001b[34m   Actual Mean Squared Error: 0.9872143268585205\u001b[00m\n",
            "\u001b[32mEstimated Mean Squared Error: 0.987934947013855\u001b[00m\n",
            "eps: 0.01\n",
            "error rate: 0.0007299530970419355\n",
            "original_coeff tensor([58., 86., 96., 70., 25., 15., 49., 74., 34., 92.], device='cuda:0')\n",
            "==========\n",
            "\u001b[36m Original Mean Squared Error: 1.0216723680496216\u001b[00m\n",
            "\u001b[34m   Actual Mean Squared Error: 1.021004319190979\u001b[00m\n",
            "\u001b[32mEstimated Mean Squared Error: 1.0210603475570679\u001b[00m\n",
            "eps: 0.001\n",
            "error rate: 5.4875738560333787e-05\n"
          ]
        }
      ]
    },
    {
      "cell_type": "code",
      "source": [],
      "metadata": {
        "id": "u9pH0O4KshxJ"
      },
      "execution_count": null,
      "outputs": []
    }
  ],
  "metadata": {
    "kernelspec": {
      "display_name": "base",
      "language": "python",
      "name": "python3"
    },
    "language_info": {
      "codemirror_mode": {
        "name": "ipython",
        "version": 3
      },
      "file_extension": ".py",
      "mimetype": "text/x-python",
      "name": "python",
      "nbconvert_exporter": "python",
      "pygments_lexer": "ipython3",
      "version": "3.9.13"
    },
    "orig_nbformat": 4,
    "colab": {
      "provenance": [],
      "gpuType": "T4",
      "include_colab_link": true
    },
    "accelerator": "GPU",
    "gpuClass": "standard"
  },
  "nbformat": 4,
  "nbformat_minor": 0
}